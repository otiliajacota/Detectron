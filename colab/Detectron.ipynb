{
  "nbformat": 4,
  "nbformat_minor": 0,
  "metadata": {
    "colab": {
      "name": "detectron(google_colab).ipynb",
      "version": "0.3.2",
      "provenance": [],
      "collapsed_sections": [],
      "toc_visible": true
    },
    "kernelspec": {
      "name": "python2",
      "display_name": "Python 2"
    },
    "accelerator": "GPU"
  },
  "cells": [
    {
      "metadata": {
        "id": "E83oQ9612EI1",
        "colab_type": "text"
      },
      "cell_type": "markdown",
      "source": [
        ""
      ]
    },
    {
      "metadata": {
        "id": "_HjaYRdiete0",
        "colab_type": "text"
      },
      "cell_type": "markdown",
      "source": [
        "##Install Caffe2"
      ]
    },
    {
      "metadata": {
        "id": "TRvy4QhoMeeN",
        "colab_type": "code",
        "colab": {}
      },
      "cell_type": "code",
      "source": [
        "!wget https://anaconda.org/pytorch/pytorch-nightly/1.0.0.dev20181206/download/linux-64/pytorch-nightly-1.0.0.dev20181206-py2.7_cuda9.2.148_cudnn7.4.1_0.tar.bz2\n",
        "!tar xvjf pytorch-nightly-1.0.0.dev20181206-py2.7_cuda9.2.148_cudnn7.4.1_0.tar.bz2\n",
        "!cp -r lib/python2.7/site-packages/* /usr/local/lib/python2.7/dist-packages/"
      ],
      "execution_count": 0,
      "outputs": []
    },
    {
      "metadata": {
        "id": "IuSxyCWGe1zy",
        "colab_type": "text"
      },
      "cell_type": "markdown",
      "source": [
        "####Check Caffe2 installation"
      ]
    },
    {
      "metadata": {
        "id": "Dto2pDK6ORIZ",
        "colab_type": "code",
        "colab": {}
      },
      "cell_type": "code",
      "source": [
        "# To check if Caffe2 build was successful\n",
        "!python -c 'from caffe2.python import core' 2>/dev/null && echo \"Success\" || echo \"Failure\"\n",
        "\n",
        "# To check if Caffe2 GPU build was successful\n",
        "# This must print a number > 0 in order to use Detectron\n",
        "!python -c 'from caffe2.python import workspace; print(workspace.NumCudaDevices())'"
      ],
      "execution_count": 0,
      "outputs": []
    },
    {
      "metadata": {
        "id": "sUK0ybHBfBPa",
        "colab_type": "text"
      },
      "cell_type": "markdown",
      "source": [
        "##Install Cocoapi"
      ]
    },
    {
      "metadata": {
        "id": "BQ1sqXn_PSoH",
        "colab_type": "code",
        "colab": {}
      },
      "cell_type": "code",
      "source": [
        "#!apt-get install python-dev\n",
        "#!pip install cython\n",
        "#!pip install pycocotools\n",
        "#!git clone https://github.com/cocodataset/cocoapi.git\n",
        "#!cd cocoapi/PythonAPI && make install\n",
        "\n",
        "#import os\n",
        "#os.environ['COCOAPI'] = \":/content/cocoapi\""
      ],
      "execution_count": 0,
      "outputs": []
    },
    {
      "metadata": {
        "id": "MOUyds85YNEW",
        "colab_type": "text"
      },
      "cell_type": "markdown",
      "source": [
        "## Delete COCO dataset"
      ]
    },
    {
      "metadata": {
        "id": "BywJyxUaYMcO",
        "colab_type": "code",
        "colab": {}
      },
      "cell_type": "code",
      "source": [
        "#rm -rf /content/cocoapi"
      ],
      "execution_count": 0,
      "outputs": []
    },
    {
      "metadata": {
        "id": "FDjTvouDfI5l",
        "colab_type": "text"
      },
      "cell_type": "markdown",
      "source": [
        "##Install Detectron"
      ]
    },
    {
      "metadata": {
        "id": "deZtfbJ8TcBw",
        "colab_type": "code",
        "colab": {}
      },
      "cell_type": "code",
      "source": [
        "!git clone https://github.com/facebookresearch/detectron\n",
        "!pip install -r detectron/requirements.txt\n",
        "!cd detectron && make\n",
        "!python detectron/detectron/tests/test_spatial_narrow_as_op.py\n",
        "os.chdir('detectron')"
      ],
      "execution_count": 0,
      "outputs": []
    },
    {
      "metadata": {
        "id": "kfNwOQQ8BPtk",
        "colab_type": "text"
      },
      "cell_type": "markdown",
      "source": [
        "##Run Detectron on images in detectron/demo"
      ]
    },
    {
      "metadata": {
        "id": "9JXd96TqDmHN",
        "colab_type": "code",
        "colab": {}
      },
      "cell_type": "code",
      "source": [
        "!python tools/infer_simple.py \\\n",
        "    --cfg configs/12_2017_baselines/e2e_mask_rcnn_R-101-FPN_2x.yaml \\\n",
        "    --output-dir demo/output \\\n",
        "    --image-ext jpg \\\n",
        "    --wts https://dl.fbaipublicfiles.com/detectron/35861858/12_2017_baselines/e2e_mask_rcnn_R-101-FPN_2x.yaml.02_32_51.SgT4y1cO/output/train/coco_2014_train:coco_2014_valminusminival/generalized_rcnn/model_final.pkl \\\n",
        "    --output-ext jpg \\\n",
        "    demo"
      ],
      "execution_count": 0,
      "outputs": []
    },
    {
      "metadata": {
        "id": "0yBAAVpub3en",
        "colab_type": "text"
      },
      "cell_type": "markdown",
      "source": [
        "## Mount Google Drive to Colab"
      ]
    },
    {
      "metadata": {
        "id": "V-OSr6HUb27A",
        "colab_type": "code",
        "colab": {}
      },
      "cell_type": "code",
      "source": [
        "#from google.colab import drive\n",
        "#drive.mount('/content/drive')"
      ],
      "execution_count": 0,
      "outputs": []
    },
    {
      "metadata": {
        "id": "eZwHMsBai876",
        "colab_type": "text"
      },
      "cell_type": "markdown",
      "source": [
        "## Symlink drive folder images to Detectron"
      ]
    },
    {
      "metadata": {
        "id": "836-1ZOojK4I",
        "colab_type": "code",
        "colab": {}
      },
      "cell_type": "code",
      "source": [
        "#!ls\n",
        "#!mkdir detectron/datasets/data/SoV\n",
        "#!ln -s /content/drive/My\\ Drive/Colab\\ Notebooks/Datasets/SOV/dataset2 detectron/datasets/data/SoV\n",
        "#!rm -rf detectron/datasets/data/SoV\n",
        "#!mkdir demo/SoV\n",
        "#!mkdir demo/SoV_output\n",
        "#!ls /content/drive/My\\ Drive/Colab\\ Notebooks/Datasets/SOV/dataset2\n",
        "#!ln -s /content/drive/My\\ Drive/Colab\\ Notebooks/Datasets/SOV/dataset2 demo/SoV\n",
        "#!ls demo/SoV\n",
        "!ln -s /content/drive/My\\ Drive/Colab\\ Notebooks/Datasets/SOV/13h34m33s demo/SoV\n",
        "!ls demo/SoV"
      ],
      "execution_count": 0,
      "outputs": []
    },
    {
      "metadata": {
        "id": "q0S4rxsZZMjP",
        "colab_type": "text"
      },
      "cell_type": "markdown",
      "source": [
        "## Run Detectron on own dataset"
      ]
    },
    {
      "metadata": {
        "id": "gOjU_76DZL_v",
        "colab_type": "code",
        "colab": {}
      },
      "cell_type": "code",
      "source": [
        "!python tools/infer_simple.py \\\n",
        "    --cfg configs/12_2017_baselines/e2e_mask_rcnn_R-101-FPN_2x.yaml \\\n",
        "    --output-dir demo/SoV_output \\\n",
        "    --image-ext png \\\n",
        "    --wts https://dl.fbaipublicfiles.com/detectron/35861858/12_2017_baselines/e2e_mask_rcnn_R-101-FPN_2x.yaml.02_32_51.SgT4y1cO/output/train/coco_2014_train:coco_2014_valminusminival/generalized_rcnn/model_final.pkl \\\n",
        "    --output-ext png \\\n",
        "    demo/SoV/13h34m33s\n",
        "    #/content/drive/My\\ Drive/Colab\\ Notebooks\\Datasets/SOV/dataset2\n",
        "    #/content/drive/My\\ Drive/Colab\\ Notebooks\\Datasets/SOV/13h34m33s/"
      ],
      "execution_count": 0,
      "outputs": []
    },
    {
      "metadata": {
        "id": "2Yq992g_6VX3",
        "colab_type": "text"
      },
      "cell_type": "markdown",
      "source": [
        "## Plot images using matplotlib"
      ]
    },
    {
      "metadata": {
        "id": "vVhjMb2Y6Z7Q",
        "colab_type": "code",
        "colab": {}
      },
      "cell_type": "code",
      "source": [
        "import matplotlib.pyplot as plt\n",
        "import matplotlib.image as mpimg\n",
        "import numpy as np\n",
        "from google.colab import files\n",
        "\n",
        "\n",
        "\n",
        "i = 1\n",
        "for file in os.listdir('demo/SoV_output'):\n",
        "  if file.endswith(('.jpg', '.pdf')): \n",
        "    #files.download('demo/output/'+file)\n",
        "    fig = plt.figure()\n",
        "    plt.axis('off')\n",
        "    plt.grid(None)\n",
        "    img = mpimg.imread('demo/SoV_output/'+file)\n",
        "    plt.imshow(img)\n",
        "    i=i+1"
      ],
      "execution_count": 0,
      "outputs": []
    },
    {
      "metadata": {
        "id": "9iVbbqpMCTUz",
        "colab_type": "text"
      },
      "cell_type": "markdown",
      "source": [
        "##Download files"
      ]
    },
    {
      "metadata": {
        "id": "wXTJo80gV0HP",
        "colab_type": "code",
        "colab": {}
      },
      "cell_type": "code",
      "source": [
        "from google.colab import files\n",
        "\n",
        "for file in os.listdir('demo/SoV_output'):\n",
        "  if file.endswith(('.png', '.pdf')): \n",
        "    files.download('demo/SoV_output/'+file)"
      ],
      "execution_count": 0,
      "outputs": []
    }
  ]
}