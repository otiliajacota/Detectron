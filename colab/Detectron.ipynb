{
  "nbformat": 4,
  "nbformat_minor": 0,
  "metadata": {
    "colab": {
      "name": "detectron(google_colab).ipynb",
      "version": "0.3.2",
      "provenance": [],
      "collapsed_sections": [],
      "toc_visible": true
    },
    "kernelspec": {
      "name": "python2",
      "display_name": "Python 2"
    },
    "accelerator": "GPU"
  },
  "cells": [
    {
      "metadata": {
        "id": "_HjaYRdiete0",
        "colab_type": "text"
      },
      "cell_type": "markdown",
      "source": [
        "##Install Caffe2"
      ]
    },
    {
      "metadata": {
        "id": "TRvy4QhoMeeN",
        "colab_type": "code",
        "colab": {}
      },
      "cell_type": "code",
      "source": [
        "!wget https://anaconda.org/pytorch/pytorch-nightly/1.0.0.dev20181206/download/linux-64/pytorch-nightly-1.0.0.dev20181206-py2.7_cuda9.2.148_cudnn7.4.1_0.tar.bz2\n",
        "!tar xvjf pytorch-nightly-1.0.0.dev20181206-py2.7_cuda9.2.148_cudnn7.4.1_0.tar.bz2\n",
        "!cp -r lib/python2.7/site-packages/* /usr/local/lib/python2.7/dist-packages/"
      ],
      "execution_count": 0,
      "outputs": []
    },
    {
      "metadata": {
        "id": "IuSxyCWGe1zy",
        "colab_type": "text"
      },
      "cell_type": "markdown",
      "source": [
        "####Check Caffe2 installation"
      ]
    },
    {
      "metadata": {
        "id": "Dto2pDK6ORIZ",
        "colab_type": "code",
        "outputId": "818d1d47-881d-4097-e5a9-01dfa82c28e0",
        "colab": {
          "base_uri": "https://localhost:8080/",
          "height": 52
        }
      },
      "cell_type": "code",
      "source": [
        "# To check if Caffe2 build was successful\n",
        "!python -c 'from caffe2.python import core' 2>/dev/null && echo \"Success\" || echo \"Failure\"\n",
        "\n",
        "# To check if Caffe2 GPU build was successful\n",
        "# This must print a number > 0 in order to use Detectron\n",
        "!python -c 'from caffe2.python import workspace; print(workspace.NumCudaDevices())'"
      ],
      "execution_count": 1,
      "outputs": [
        {
          "output_type": "stream",
          "text": [
            "Success\n",
            "1\n"
          ],
          "name": "stdout"
        }
      ]
    },
    {
      "metadata": {
        "id": "sUK0ybHBfBPa",
        "colab_type": "text"
      },
      "cell_type": "markdown",
      "source": [
        "##Install Cocoapi"
      ]
    },
    {
      "metadata": {
        "id": "BQ1sqXn_PSoH",
        "colab_type": "code",
        "colab": {}
      },
      "cell_type": "code",
      "source": [
        "!apt-get install python-dev\n",
        "!pip install cython\n",
        "!pip install pycocotools\n",
        "!git clone https://github.com/cocodataset/cocoapi.git\n",
        "!cd cocoapi/PythonAPI && make install\n",
        "\n",
        "import os\n",
        "os.environ['COCOAPI'] = \":/content/cocoapi\""
      ],
      "execution_count": 0,
      "outputs": []
    },
    {
      "metadata": {
        "id": "FDjTvouDfI5l",
        "colab_type": "text"
      },
      "cell_type": "markdown",
      "source": [
        "##Install Detectron"
      ]
    },
    {
      "metadata": {
        "id": "deZtfbJ8TcBw",
        "colab_type": "code",
        "colab": {}
      },
      "cell_type": "code",
      "source": [
        "!git clone https://github.com/facebookresearch/detectron\n",
        "!pip install -r detectron/requirements.txt\n",
        "!cd detectron && make\n",
        "!python detectron/detectron/tests/test_spatial_narrow_as_op.py\n",
        "os.chdir('detectron')"
      ],
      "execution_count": 0,
      "outputs": []
    },
    {
      "metadata": {
        "id": "kfNwOQQ8BPtk",
        "colab_type": "text"
      },
      "cell_type": "markdown",
      "source": [
        "##Run Detectron on images in detectron/demo"
      ]
    },
    {
      "metadata": {
        "id": "9JXd96TqDmHN",
        "colab_type": "code",
        "colab": {}
      },
      "cell_type": "code",
      "source": [
        "!python tools/infer_simple.py \\\n",
        "    --cfg configs/12_2017_baselines/e2e_mask_rcnn_R-101-FPN_2x.yaml \\\n",
        "    --output-dir demo/output \\\n",
        "    --image-ext jpg \\\n",
        "    --wts https://dl.fbaipublicfiles.com/detectron/35861858/12_2017_baselines/e2e_mask_rcnn_R-101-FPN_2x.yaml.02_32_51.SgT4y1cO/output/train/coco_2014_train:coco_2014_valminusminival/generalized_rcnn/model_final.pkl \\\n",
        "    --output-ext jpg \\\n",
        "    demo"
      ],
      "execution_count": 0,
      "outputs": []
    },
    {
      "metadata": {
        "id": "9iVbbqpMCTUz",
        "colab_type": "text"
      },
      "cell_type": "markdown",
      "source": [
        "##Download files"
      ]
    },
    {
      "metadata": {
        "id": "wXTJo80gV0HP",
        "colab_type": "code",
        "colab": {}
      },
      "cell_type": "code",
      "source": [
        "from google.colab import files\n",
        "\n",
        "for file in os.listdir('demo/output'):\n",
        "  if file.endswith(('.jpg', '.pdf')): \n",
        "    files.download('demo/output/'+file)"
      ],
      "execution_count": 0,
      "outputs": []
    }
  ]
}